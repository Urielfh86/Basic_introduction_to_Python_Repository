{
 "cells": [
  {
   "cell_type": "markdown",
   "id": "brave-lodging",
   "metadata": {},
   "source": [
    "**Ejercicio 1.** (1 punto) Sin usar expresiones literales, ni sentencias condicionales, ni bucles: (1) Crear una lista ordenada que contenga los números del 1 al 20 (ambos inclusive). Posteriormente, (2) usando la lista creada en el apartado (1), mostrar por pantalla otra lista que contenga sólo los números múltiplos de 5, es decir: [5, 10, 15, 20]."
   ]
  },
  {
   "cell_type": "code",
   "execution_count": 10,
   "id": "8b542f66-0591-4c68-9bab-d9572ed778e5",
   "metadata": {},
   "outputs": [
    {
     "name": "stdout",
     "output_type": "stream",
     "text": [
      "[5, 10, 15, 20]\n"
     ]
    }
   ],
   "source": [
    "# Uriel Ferro\n",
    "\n",
    "\"\"\"\n",
    "Apartado 1\n",
    "\"\"\"\n",
    "numeros = list(range(1, 21))\n",
    "\n",
    "\"\"\"\n",
    "Apartado 2\n",
    "\"\"\"\n",
    "numeros_multiplos_5 = numeros[4::5]\n",
    "print(numeros_multiplos_5)"
   ]
  },
  {
   "cell_type": "markdown",
   "id": "american-school",
   "metadata": {},
   "source": [
    "**Ejercicio 2.** (1 punto) Crear una función que reciba como parámetro (input) una lista con objetos de diferentes tipos. Por simplificar, para este problema se consideran únicamente números *enteros*, números *decimales* y *strings*. La función debe devolver como resultado (output) la suma de los números (enteros y decimales) e ignorar los strings. Ejemplo: el resultado para la lista ['b', 'c', 1, 3.4, 'a', 2] sería 6.4."
   ]
  },
  {
   "cell_type": "code",
   "execution_count": 9,
   "id": "f1a4f16f-c0a7-4db3-89fd-906722584b1c",
   "metadata": {},
   "outputs": [
    {
     "name": "stdout",
     "output_type": "stream",
     "text": [
      "15.0\n"
     ]
    }
   ],
   "source": [
    "# Uriel Ferro\n",
    "\n",
    "lista = [10, 'b', 'c', 1, 2.4, 'a', 1, \"uriel\", \"5\", 0.6]\n",
    "\n",
    "def sumar_nums_lista(lista):\n",
    "    suma = 0\n",
    "    for item in lista:\n",
    "        if type(item) == int or type(item) == float:\n",
    "            suma += item\n",
    "    return suma\n",
    "    \n",
    "print(sumar_nums_lista(lista))"
   ]
  },
  {
   "cell_type": "markdown",
   "id": "amateur-creation",
   "metadata": {},
   "source": [
    "**Ejercicio 3.** (2 puntos) Escribir un programa (sin funciones) que compare dos diccionarios cualquiera y muestre *True* por pantalla si tienen algún elemento en común y *False* en caso contrario. Tener un elemento en común significa que existe un elemento (clave-valor) que está presente en ambos diccionarios. Por ejemplo, el programa mostrará *True* para los diccionarios a = {'a': 3, 'b': 4} y b = {'c': 1, 'a': 3} dado que ambos incluyen el elemento 'a': 3."
   ]
  },
  {
   "cell_type": "code",
   "execution_count": 8,
   "id": "cec371fa-392a-4d51-a5ab-6c1ca2819467",
   "metadata": {},
   "outputs": [
    {
     "name": "stdout",
     "output_type": "stream",
     "text": [
      "True\n"
     ]
    }
   ],
   "source": [
    "# Uriel Ferro\n",
    "\n",
    "dict_1 = {'b': 4, 'a': 3, 'c' : 7, 'd' : 9}\n",
    "dict_2 = {'c': 1, 't': 7, 'a' : 3, 'p' : 9}\n",
    "aux = 0\n",
    "aux_2 = 0\n",
    "\n",
    "for clave_1, valor_1 in dict_1.items():\n",
    "    aux_2 += 1\n",
    "    for clave_2, valor_2 in dict_2.items():\n",
    "        if clave_1 == clave_2 and valor_1 == valor_2 and aux == 0:\n",
    "            aux = 1\n",
    "            print(True)\n",
    "    if aux == 0 and aux_2 == len(dict_1):# Si \"aux\" se encuentra en 0 es que no encontró claves con valores iguales en ambos diccionarios yno ha entrado al \"If\" anterior\n",
    "           print(False)                  # y además si \"aux_2\" es igual al largo de uno de los diccionarios indica que ya fueron recorridos en su totalidad."
   ]
  },
  {
   "cell_type": "markdown",
   "id": "quality-antenna",
   "metadata": {},
   "source": [
    "**Ejercicio 4.** (2 puntos) Escribe una función que reciba como parámetros dos strings y compruebe si estos strings cumplen las siguientes propiedades: (1) ambos strings tienen los mismos caracteres y, además, (2) estos caracteres aparecen el mismo número de veces en ambos strings (es decir, si el primer string tiene 3 'a', por ejemplo, el segundo string también tendrá 3 'a', aunque éstas pueden aparecer en posiciones diferentes). Para resolver el problema, **no** puedes importar ningún módulo de Python (como, por ejemplo, *collections*) ni usar funciones de ordenación (como *sort*).\n",
    "\n",
    "   * Ejemplos para los que la función devolverá *False*:\n",
    "       * 'hola' y 'adios'.\n",
    "       * 'java' y 'javascript'.\n",
    "       * 'maria' y 'mariam'.\n",
    "       * 'aab' y 'abb'.\n",
    "\n",
    "\n",
    "   * Ejemplos para los que la función devolverá *True*:\n",
    "       * 'python' y 'python'\n",
    "       * 'listen' y 'silent'\n",
    "       * 'aabbcc' y 'abcabc'"
   ]
  },
  {
   "cell_type": "code",
   "execution_count": 4,
   "id": "3c2910d0-c4cb-493f-87ae-a8b97942915a",
   "metadata": {},
   "outputs": [
    {
     "name": "stdout",
     "output_type": "stream",
     "text": [
      "True\n"
     ]
    }
   ],
   "source": [
    "# Uriel Ferro\n",
    "\n",
    "s_1 = \"listen\" \n",
    "s_2 = \"silent\"\n",
    " \n",
    "def mismos_caracteres(string1, string2): # Chequeo que todas las letras del string 1 estén en el string 2.\n",
    "    contador_caracteres = 0 \n",
    "    \n",
    "    for letra in string1:\n",
    "        if letra in string2: \n",
    "            contador_caracteres += 1\n",
    "    return contador_caracteres\n",
    "\n",
    "def cantidad_x_caracter(string):\n",
    "    num_vec_caracteres = {}\n",
    "    string_list = list(string)\n",
    "\n",
    "    for letra in string_list:\n",
    "            if letra in num_vec_caracteres: # Creo un diccionario con el caracter como clave y el valor como la cantidad de veces que aparece.\n",
    "                num_vec_caracteres[letra] += 1\n",
    "            else:\n",
    "                num_vec_caracteres[letra] = 1\n",
    "    return num_vec_caracteres\n",
    "    \n",
    "def compara_strings(s_1, s_2):\n",
    "    aux = 0\n",
    "    aux_2 = 0\n",
    "    num_vec_caracteres_1 = {}\n",
    "    num_vec_caracteres_2 = {}\n",
    "    \n",
    "    if len(s_1) == len(s_2): # Si no son del mismo largo ya se sabe que los caracteres no aparecerán la misma cantidad de veces.\n",
    "        \n",
    "        aux = mismos_caracteres(s_1, s_2) # Chequeo que todas las letras del string 1 estén en el string 2 y viceversa y si las dos variables auxiliares tienen\n",
    "        aux_2 = mismos_caracteres(s_2, s_1) # el mismo valor, es que ambos strings tienen los mismos caracteres.\n",
    "        num_vec_caracteres_1 = cantidad_x_caracter(s_1)           \n",
    "        num_vec_caracteres_2 = cantidad_x_caracter(s_2) \n",
    "                \n",
    "        if aux == aux_2 and num_vec_caracteres_1 == num_vec_caracteres_2: # Ambas condiciones se deben cumplir para que sea True.\n",
    "            return True\n",
    "        else:\n",
    "            return False \n",
    "    else:\n",
    "        return False\n",
    "\n",
    "print(compara_strings(s_1, s_2))    "
   ]
  },
  {
   "cell_type": "markdown",
   "id": "enhanced-liver",
   "metadata": {},
   "source": [
    "**Ejercicio 5.** (2 puntos) En \"*./actividades/res/ciudades.csv*\" tenéis un fichero CSV con información acerca de un conjunto de ciudades: nombre de la ciudad, país al que pertenece y número de habitantes. Escribir un programa que acceda al fichero y obtenga:\n",
    "\n",
    "* Una *lista* con los nombres de las ciudades españolas que tienen más de 300.000 habitantes.\n",
    "* El *número total* de ciudades francesas.\n",
    "\n",
    "El programa debe mostrar la lista y el número por pantalla."
   ]
  },
  {
   "cell_type": "code",
   "execution_count": 5,
   "id": "c15bbaf8-68d9-4569-9255-056e46e2a950",
   "metadata": {},
   "outputs": [
    {
     "name": "stdout",
     "output_type": "stream",
     "text": [
      "(1) Las ciudades españolas presentes en la lista que tienen mas de 300 mil habitantes son: ['Valencia', 'Bilbao', 'Madrid', 'Sevilla', 'Barcelona']\n",
      "\n",
      "(2) En la lista existen 3 ciudades francesas.\n"
     ]
    }
   ],
   "source": [
    "# Uriel Ferro\n",
    "\n",
    "import csv\n",
    "ruta = \"res_act_evaluable/ciudades.csv\"\n",
    "ciudades_esp_300k = []\n",
    "contador_francia = 0\n",
    "\n",
    "with open(ruta) as fichero:\n",
    "    info = csv.reader(fichero, delimiter = '|')\n",
    "    for linea in info:\n",
    "        if linea[1] == \"Espanya\" and int(linea[2]) > 300000:\n",
    "            ciudades_esp_300k.append(linea[0])\n",
    "        \n",
    "        if linea[1] == \"Francia\":\n",
    "            contador_francia += 1\n",
    "\n",
    "print(f\"(1) Las ciudades españolas presentes en la lista que tienen mas de 300 mil habitantes son: {ciudades_esp_300k}\")\n",
    "    \n",
    "print(f\"\\n(2) En la lista existen {contador_francia} ciudades francesas.\")"
   ]
  },
  {
   "cell_type": "markdown",
   "id": "entertaining-ideal",
   "metadata": {},
   "source": [
    "**Ejercicio 6.** (2 puntos) Escribe una *list comprehension* que obtenga una lista que contenga todos los números impares del 1 al 30 (ambos inclusive). Aquellos que sean múltiplos de 5, serán marcados con una 'x'. Es decir, el resultado debe ser: [1, 3, '5x', 7, 9, 11, 13, '15x', 17, 19, 21, 23, '25x', 27, 29]"
   ]
  },
  {
   "cell_type": "code",
   "execution_count": 6,
   "id": "5b5830c9-d66a-41af-97ef-43ec3cc7666c",
   "metadata": {},
   "outputs": [
    {
     "name": "stdout",
     "output_type": "stream",
     "text": [
      "[1, 3, '5x', 7, 9, 11, 13, '15x', 17, 19, 21, 23, '25x', 27, 29]\n"
     ]
    }
   ],
   "source": [
    "# Uriel Ferro\n",
    "\n",
    "rango = range(1, 31)\n",
    "list_comprehension = [ str(num) + \"x\" if num % 2 != 0 and num % 5 == 0 else num for num in range(1, 31, 2) ]\n",
    "print(list_comprehension)"
   ]
  }
 ],
 "metadata": {
  "kernelspec": {
   "display_name": "Python 3 (ipykernel)",
   "language": "python",
   "name": "python3"
  },
  "language_info": {
   "codemirror_mode": {
    "name": "ipython",
    "version": 3
   },
   "file_extension": ".py",
   "mimetype": "text/x-python",
   "name": "python",
   "nbconvert_exporter": "python",
   "pygments_lexer": "ipython3",
   "version": "3.11.0"
  }
 },
 "nbformat": 4,
 "nbformat_minor": 5
}
